{
  "cells": [
    {
      "cell_type": "markdown",
      "metadata": {
        "id": "TO0uhbZDkMBE"
      },
      "source": [
        "### 1. **Using `self`**\n",
        "\n",
        "**Assignment:**  \n",
        "Create a class `Student` with attributes `name` and `marks`. Use the `self` keyword to initialize these values via a constructor. Add a method `display()` that prints student details.\n"
      ]
    },
    {
      "cell_type": "code",
      "execution_count": null,
      "metadata": {
        "colab": {
          "base_uri": "https://localhost:8080/"
        },
        "id": "RV6njE7UkMBH",
        "outputId": "44c3593d-0d35-4ee9-d812-3e87a9e9c419"
      },
      "outputs": [
        {
          "output_type": "stream",
          "name": "stdout",
          "text": [
            "Name: Ali, Marks: 85\n"
          ]
        }
      ],
      "source": [
        "# 1. Using self\n",
        "class Student:\n",
        "    def __init__(self, name, marks):\n",
        "        self.name = name\n",
        "        self.marks = marks\n",
        "\n",
        "    def display(self):\n",
        "        print(f\"Name: {self.name}, Marks: {self.marks}\")\n",
        "\n",
        "student1 = Student(\"Ali\", 85)\n",
        "student1.display()"
      ]
    },
    {
      "cell_type": "markdown",
      "metadata": {
        "id": "uRAtqyB5kMBJ"
      },
      "source": [
        "### 2. **Using `cls`**\n",
        "\n",
        "**Assignment:**  \n",
        "Create a class `Counter` that keeps track of how many objects have been created. Use a class variable and a class method with `cls` to manage and display the count.\n"
      ]
    },
    {
      "cell_type": "code",
      "execution_count": null,
      "metadata": {
        "colab": {
          "base_uri": "https://localhost:8080/"
        },
        "id": "6gchekfWkMBK",
        "outputId": "d8e0d666-2fae-43c3-f88a-52de8adec8ff"
      },
      "outputs": [
        {
          "output_type": "stream",
          "name": "stdout",
          "text": [
            "Total objects created: 2\n"
          ]
        }
      ],
      "source": [
        "# 2. Using cls\n",
        "class Counter:\n",
        "    count = 0\n",
        "\n",
        "    def __init__(self):\n",
        "        Counter.count += 1\n",
        "\n",
        "    @classmethod\n",
        "    def show_count(cls):\n",
        "        print(f\"Total objects created: {cls.count}\")\n",
        "\n",
        "c1 = Counter()\n",
        "c2 = Counter()\n",
        "Counter.show_count()"
      ]
    },
    {
      "cell_type": "markdown",
      "metadata": {
        "id": "ukTCFNaPkMBL"
      },
      "source": [
        "### 3. **Public Variables and Methods**\n",
        "\n",
        "**Assignment:**  \n",
        "Create a class `Car` with a public variable `brand` and a public method `start()`. Instantiate the class and access both from outside the class."
      ]
    },
    {
      "cell_type": "code",
      "execution_count": null,
      "metadata": {
        "colab": {
          "base_uri": "https://localhost:8080/"
        },
        "id": "gII-6l-BkMBM",
        "outputId": "06c58d27-f3e5-44aa-efab-8a59f205f4de"
      },
      "outputs": [
        {
          "output_type": "stream",
          "name": "stdout",
          "text": [
            "Toyota\n",
            "Toyota car is starting...\n"
          ]
        }
      ],
      "source": [
        "# 3. Public Variables and Methods\n",
        "class Car:\n",
        "    def __init__(self, brand):\n",
        "        self.brand = brand\n",
        "\n",
        "    def start(self):\n",
        "        print(f\"{self.brand} car is starting...\")\n",
        "\n",
        "car1 = Car(\"Toyota\")\n",
        "print(car1.brand)\n",
        "car1.start()"
      ]
    },
    {
      "cell_type": "markdown",
      "source": [
        "### 4. **Class Variables and Class Methods**\n",
        "\n",
        "**Assignment:**  \n",
        "Create a class `Bank` with a class variable `bank_name`. Add a class method `change_bank_name(cls, name)` that allows changing the bank name. Show that it affects all instances.\n"
      ],
      "metadata": {
        "id": "dHQ1mpAGmQHt"
      }
    },
    {
      "cell_type": "code",
      "source": [
        "class Bank:\n",
        "    bank_name = \"Old Bank\"\n",
        "\n",
        "    @classmethod\n",
        "    def change_bank_name(cls, name):\n",
        "        cls.bank_name = name\n",
        "\n",
        "    def display_bank_name(self):\n",
        "        print(f\"Bank Name: {Bank.bank_name}\")\n",
        "\n",
        "# Example usage\n",
        "account1 = Bank()\n",
        "account2 = Bank()\n",
        "\n",
        "account1.display_bank_name()\n",
        "account2.display_bank_name()\n",
        "\n",
        "Bank.change_bank_name(\"New Bank\")\n",
        "\n",
        "account1.display_bank_name()\n",
        "account2.display_bank_name()\n"
      ],
      "metadata": {
        "colab": {
          "base_uri": "https://localhost:8080/"
        },
        "id": "apb4dK_JmUBF",
        "outputId": "a35789b8-6053-48c4-fbb0-7ed5f961ada8"
      },
      "execution_count": null,
      "outputs": [
        {
          "output_type": "stream",
          "name": "stdout",
          "text": [
            "Bank Name: Old Bank\n",
            "Bank Name: Old Bank\n",
            "Bank Name: New Bank\n",
            "Bank Name: New Bank\n"
          ]
        }
      ]
    },
    {
      "cell_type": "markdown",
      "source": [
        "### 5. **Static Variables and Static Methods**\n",
        "\n",
        "**Assignment:**  \n",
        "Create a class `MathUtils` with a static method `add(a, b)` that returns the sum. No class or instance variables should be used.\n"
      ],
      "metadata": {
        "id": "hExHmdP4mUzq"
      }
    },
    {
      "cell_type": "code",
      "source": [
        "class MathUtils:\n",
        "    @staticmethod\n",
        "    def add(a, b):\n",
        "        return a + b\n",
        "\n",
        "# Example usage\n",
        "result = MathUtils.add(5, 7)\n",
        "print(\"Sum:\", result)\n"
      ],
      "metadata": {
        "colab": {
          "base_uri": "https://localhost:8080/"
        },
        "id": "dE56Cnm6mYtQ",
        "outputId": "bea645ba-68ec-4da7-b180-99f0a238a6c4"
      },
      "execution_count": null,
      "outputs": [
        {
          "output_type": "stream",
          "name": "stdout",
          "text": [
            "Sum: 12\n"
          ]
        }
      ]
    },
    {
      "cell_type": "markdown",
      "source": [
        "### 6. **Constructors and Destructors**\n",
        "\n",
        "**Assignment:**  \n",
        "Create a class `Logger` that prints a message when an object is created (constructor) and another message when it is destroyed (destructor).\n"
      ],
      "metadata": {
        "id": "MYqu9MHembWm"
      }
    },
    {
      "cell_type": "code",
      "source": [
        "class Logger:\n",
        "    def __init__(self):\n",
        "        print(\"Logger started!\")\n",
        "\n",
        "    def __del__(self):\n",
        "        print(\"Logger ended!\")\n",
        "\n",
        "# Example usage\n",
        "log = Logger()\n",
        "del log\n"
      ],
      "metadata": {
        "colab": {
          "base_uri": "https://localhost:8080/"
        },
        "id": "GNSPBzmGmcvJ",
        "outputId": "af03f822-2d66-4a7b-b680-f1a27da4370c"
      },
      "execution_count": null,
      "outputs": [
        {
          "output_type": "stream",
          "name": "stdout",
          "text": [
            "Logger started!\n",
            "Logger ended!\n"
          ]
        }
      ]
    },
    {
      "cell_type": "markdown",
      "source": [
        "### 7. **Access Modifiers: Public, Private, and Protected**\n",
        "\n",
        "**Assignment:**  \n",
        "Create a class `Employee` with:\n",
        "- a public variable `name`,\n",
        "- a protected variable `_salary`, and\n",
        "- a private variable `__ssn`.\n",
        "\n",
        "Try accessing all three variables from an object of the class and document what happens.\n"
      ],
      "metadata": {
        "id": "NJPzAI8Lmduv"
      }
    },
    {
      "cell_type": "code",
      "source": [
        "class Employee:\n",
        "    def __init__(self, name, salary, ssn):\n",
        "        self.name = name            # Public\n",
        "        self._salary = salary       # Protected\n",
        "        self.__ssn = ssn            # Private\n",
        "\n",
        "# Example usage\n",
        "emp = Employee(\"Ali\", 50000, \"123-45-6789\")\n",
        "\n",
        "print(\"Name (Public):\", emp.name)           # Accessible\n",
        "print(\"Salary (Protected):\", emp._salary)   # Accessible but not recommended\n",
        "\n",
        "try:\n",
        "    print(\"SSN (Private):\", emp.__ssn)       # Will raise AttributeError\n",
        "except AttributeError:\n",
        "    print(\"Cannot access __ssn directly (Private)\")\n"
      ],
      "metadata": {
        "colab": {
          "base_uri": "https://localhost:8080/"
        },
        "id": "B_7q_ip8mfjk",
        "outputId": "5c801e2b-1bbd-4c88-eef0-852f711b5b01"
      },
      "execution_count": null,
      "outputs": [
        {
          "output_type": "stream",
          "name": "stdout",
          "text": [
            "Name (Public): Ali\n",
            "Salary (Protected): 50000\n",
            "Cannot access __ssn directly (Private)\n"
          ]
        }
      ]
    },
    {
      "cell_type": "markdown",
      "source": [
        "### 8. **The `super()` Function**\n",
        "\n",
        "**Assignment:**  \n",
        "Create a class `Person` with a constructor that sets the name. Inherit a class `Teacher` from it, add a subject field, and use `super()` to call the base class constructor.\n"
      ],
      "metadata": {
        "id": "6RlH1Ln7mhuF"
      }
    },
    {
      "cell_type": "code",
      "source": [
        "class Person:\n",
        "    def __init__(self, name):\n",
        "        self.name = name\n",
        "\n",
        "class Teacher(Person):\n",
        "    def __init__(self, name, subject):\n",
        "        super().__init__(name)  # Calls base class constructor\n",
        "        self.subject = subject\n",
        "\n",
        "    def display(self):\n",
        "        print(f\"Name: {self.name}, Subject: {self.subject}\")\n",
        "\n",
        "# Example usage\n",
        "t = Teacher(\"Hassan\", \"Math\")\n",
        "t.display()\n"
      ],
      "metadata": {
        "colab": {
          "base_uri": "https://localhost:8080/"
        },
        "id": "Sc4dcdMQmkhF",
        "outputId": "5b38abd6-1d28-4f3d-c418-33e4c8194d02"
      },
      "execution_count": null,
      "outputs": [
        {
          "output_type": "stream",
          "name": "stdout",
          "text": [
            "Name: Hassan, Subject: Math\n"
          ]
        }
      ]
    },
    {
      "cell_type": "markdown",
      "source": [
        "### 9. **Abstract Classes and Methods**\n",
        "\n",
        "**Assignment:**  \n",
        "Use the `abc` module to create an abstract class `Shape` with an abstract method `area()`. Inherit a class `Rectangle` that implements `area()`.\n"
      ],
      "metadata": {
        "id": "dk08iGVSml7Z"
      }
    },
    {
      "cell_type": "code",
      "source": [
        "from abc import ABC, abstractmethod\n",
        "\n",
        "class Shape(ABC):\n",
        "    @abstractmethod\n",
        "    def area(self):\n",
        "        pass\n",
        "\n",
        "class Rectangle(Shape):\n",
        "    def __init__(self, width, height):\n",
        "        self.width = width\n",
        "        self.height = height\n",
        "\n",
        "    def area(self):\n",
        "        return self.width * self.height\n",
        "\n",
        "# Example usage\n",
        "r = Rectangle(4, 5)\n",
        "print(\"Area:\", r.area())\n"
      ],
      "metadata": {
        "colab": {
          "base_uri": "https://localhost:8080/"
        },
        "id": "zGkZyiu1mnQe",
        "outputId": "8a318ed4-d3db-4041-895b-4f809754c005"
      },
      "execution_count": null,
      "outputs": [
        {
          "output_type": "stream",
          "name": "stdout",
          "text": [
            "Area: 20\n"
          ]
        }
      ]
    },
    {
      "cell_type": "markdown",
      "source": [
        "### 10. **Instance Methods**\n",
        "\n",
        "**Assignment:**  \n",
        "Create a class `Dog` with instance variables `name` and `breed`. Add an instance method `bark()` that prints a message including the dog's name.\n"
      ],
      "metadata": {
        "id": "Y4oF4QoampQf"
      }
    },
    {
      "cell_type": "code",
      "source": [
        "class Dog:\n",
        "    def __init__(self, name, breed):\n",
        "        self.name = name\n",
        "        self.breed = breed\n",
        "\n",
        "    def bark(self):\n",
        "        print(f\"{self.name} is barking! Woof woof!\")\n",
        "\n",
        "# Example usage\n",
        "dog = Dog(\"Buddy\", \"Golden Retriever\")\n",
        "dog.bark()\n"
      ],
      "metadata": {
        "colab": {
          "base_uri": "https://localhost:8080/"
        },
        "id": "tculywaMmqQc",
        "outputId": "8c2aede6-8261-490b-ff7f-daf4849da29b"
      },
      "execution_count": null,
      "outputs": [
        {
          "output_type": "stream",
          "name": "stdout",
          "text": [
            "Buddy is barking! Woof woof!\n"
          ]
        }
      ]
    },
    {
      "cell_type": "markdown",
      "source": [
        "### 11. **Class Methods**\n",
        "\n",
        "**Assignment:**  \n",
        "Create a class `Book` with a class variable `total_books`. Add a class method `increment_book_count()` to increase the count when a new book is added.\n"
      ],
      "metadata": {
        "id": "ti8jAwoPmr9Q"
      }
    },
    {
      "cell_type": "code",
      "source": [
        "class Book:\n",
        "    total_books = 0  # Class variable\n",
        "\n",
        "    def __init__(self, title):\n",
        "        self.title = title\n",
        "        Book.increment_book_count()\n",
        "\n",
        "    @classmethod\n",
        "    def increment_book_count(cls):\n",
        "        cls.total_books += 1\n",
        "\n",
        "# Example usage\n",
        "b1 = Book(\"Python 101\")\n",
        "b2 = Book(\"Learn OOP\")\n",
        "print(\"Total Books:\", Book.total_books)\n"
      ],
      "metadata": {
        "colab": {
          "base_uri": "https://localhost:8080/"
        },
        "id": "Po5FWMMXmtgH",
        "outputId": "00baef8a-8a99-4bf5-d03c-d194d4bf6b60"
      },
      "execution_count": null,
      "outputs": [
        {
          "output_type": "stream",
          "name": "stdout",
          "text": [
            "Total Books: 2\n"
          ]
        }
      ]
    },
    {
      "cell_type": "markdown",
      "source": [
        "### 12. **Static Methods**\n",
        "\n",
        "**Assignment:**  \n",
        "Create a class `TemperatureConverter` with a static method `celsius_to_fahrenheit(c)` that returns the Fahrenheit value.\n"
      ],
      "metadata": {
        "id": "uFdzomb9mvBG"
      }
    },
    {
      "cell_type": "code",
      "source": [
        "class TemperatureConverter:\n",
        "    @staticmethod\n",
        "    def celsius_to_fahrenheit(c):\n",
        "        return (c * 9/5) + 32\n",
        "\n",
        "# Example usage\n",
        "temp = TemperatureConverter()\n",
        "print(\"Fahrenheit:\", temp.celsius_to_fahrenheit(25))\n"
      ],
      "metadata": {
        "colab": {
          "base_uri": "https://localhost:8080/"
        },
        "id": "QeLPnYU1mwKg",
        "outputId": "60b0a8c6-ab6f-42c6-fe3f-7a94cdc1268d"
      },
      "execution_count": null,
      "outputs": [
        {
          "output_type": "stream",
          "name": "stdout",
          "text": [
            "Fahrenheit: 77.0\n"
          ]
        }
      ]
    },
    {
      "cell_type": "markdown",
      "source": [
        "### 13. **Composition**\n",
        "\n",
        "**Assignment:**  \n",
        "Create a class `Engine` and a class `Car`. Use composition by passing an `Engine` object to the `Car` class during initialization. Access a method of the `Engine` class via the `Car` class.\n"
      ],
      "metadata": {
        "id": "4TGCTGC-mxeH"
      }
    },
    {
      "cell_type": "code",
      "source": [
        "class Engine:\n",
        "    def start(self):\n",
        "        print(\"Engine started\")\n",
        "\n",
        "class Car:\n",
        "    def __init__(self, engine):\n",
        "        self.engine = engine\n",
        "\n",
        "    def start_car(self):\n",
        "        self.engine.start()\n",
        "\n",
        "# Example usage\n",
        "engine = Engine()\n",
        "car = Car(engine)\n",
        "car.start_car()\n"
      ],
      "metadata": {
        "colab": {
          "base_uri": "https://localhost:8080/"
        },
        "id": "W_S6yyM0myc-",
        "outputId": "bd8c36c2-40c4-44b8-a71e-e11099e524c2"
      },
      "execution_count": null,
      "outputs": [
        {
          "output_type": "stream",
          "name": "stdout",
          "text": [
            "Engine started\n"
          ]
        }
      ]
    },
    {
      "cell_type": "markdown",
      "source": [
        "### 14. **Aggregation**\n",
        "\n",
        "**Assignment:**  \n",
        "Create a class `Department` and a class `Employee`. Use aggregation by having a `Department` object store a reference to an `Employee` object that exists independently of it.\n"
      ],
      "metadata": {
        "id": "rsSxk1zwmzvW"
      }
    },
    {
      "cell_type": "code",
      "source": [
        "class Employee:\n",
        "    def __init__(self, name):\n",
        "        self.name = name\n",
        "\n",
        "class Department:\n",
        "    def __init__(self, dept_name):\n",
        "        self.dept_name = dept_name\n",
        "        self.employees = []\n",
        "\n",
        "    def add_employee(self, employee):\n",
        "        self.employees.append(employee)\n",
        "\n",
        "# Example usage\n",
        "emp1 = Employee(\"Ali\")\n",
        "emp2 = Employee(\"Sara\")\n",
        "dept = Department(\"HR\")\n",
        "dept.add_employee(emp1)\n",
        "dept.add_employee(emp2)\n",
        "print(f\"Employees in {dept.dept_name} department:\")\n",
        "for emp in dept.employees:\n",
        "    print(emp.name)\n"
      ],
      "metadata": {
        "colab": {
          "base_uri": "https://localhost:8080/"
        },
        "id": "yJG9fX-Wm0vr",
        "outputId": "3e583198-4e67-49a1-8ca8-d3cd88fa7f2a"
      },
      "execution_count": null,
      "outputs": [
        {
          "output_type": "stream",
          "name": "stdout",
          "text": [
            "Employees in HR department:\n",
            "Ali\n",
            "Sara\n"
          ]
        }
      ]
    },
    {
      "cell_type": "markdown",
      "source": [
        "### 15. **Method Resolution Order (MRO) and Diamond Inheritance**\n",
        "\n",
        "**Assignment:**  \n",
        "Create four classes:\n",
        "\n",
        "-   `A` with a method `show()`,\n",
        "    \n",
        "-   `B` and `C` that inherit from `A` and override `show()`,\n",
        "    \n",
        "-   `D` that inherits from both `B` and `C`.\n",
        "    \n",
        "\n",
        "Create an object of `D` and call `show()` to observe MRO.\n"
      ],
      "metadata": {
        "id": "-_C0YZpum2G2"
      }
    },
    {
      "cell_type": "code",
      "source": [
        "class A:\n",
        "    def show(self):\n",
        "        print(\"Class A\")\n",
        "\n",
        "class B(A):\n",
        "    def show(self):\n",
        "        print(\"Class B\")\n",
        "\n",
        "class C(A):\n",
        "    def show(self):\n",
        "        print(\"Class C\")\n",
        "\n",
        "class D(B, C):\n",
        "    pass\n",
        "\n",
        "# Example usage\n",
        "d = D()\n",
        "d.show()  # Method Resolution Order (MRO) will decide which show() method to call\n"
      ],
      "metadata": {
        "colab": {
          "base_uri": "https://localhost:8080/"
        },
        "id": "CYcV_BRUm3Nl",
        "outputId": "a45a6746-343a-476c-b9e4-1ea6382c17b3"
      },
      "execution_count": null,
      "outputs": [
        {
          "output_type": "stream",
          "name": "stdout",
          "text": [
            "Class B\n"
          ]
        }
      ]
    },
    {
      "cell_type": "markdown",
      "source": [
        "### 16. **Function Decorators**\n",
        "\n",
        "**Assignment:**  \n",
        "Write a decorator function `log_function_call` that prints \"Function is being called\" before a function executes. Apply it to a function `say_hello()`.\n"
      ],
      "metadata": {
        "id": "qaCFizvrm5br"
      }
    },
    {
      "cell_type": "code",
      "source": [
        "def log_function_call(func):\n",
        "    def wrapper():\n",
        "        print(\"Function is being called\")\n",
        "        func()\n",
        "    return wrapper\n",
        "\n",
        "@log_function_call\n",
        "def say_hello():\n",
        "    print(\"Hello, World!\")\n",
        "\n",
        "# Example usage\n",
        "say_hello()\n"
      ],
      "metadata": {
        "colab": {
          "base_uri": "https://localhost:8080/"
        },
        "id": "jUQiEFXim6co",
        "outputId": "19eb32fa-1d7f-40a4-b54e-9fa83ac7d5f5"
      },
      "execution_count": null,
      "outputs": [
        {
          "output_type": "stream",
          "name": "stdout",
          "text": [
            "Function is being called\n",
            "Hello, World!\n"
          ]
        }
      ]
    },
    {
      "cell_type": "markdown",
      "source": [
        "### 17. **Class Decorators**\n",
        "\n",
        "**Assignment:**  \n",
        "Create a class decorator `add_greeting` that modifies a class to add a `greet()` method returning \"Hello from Decorator!\". Apply it to a class `Person`.\n"
      ],
      "metadata": {
        "id": "pDmw9hegm7-l"
      }
    },
    {
      "cell_type": "code",
      "source": [
        "def add_greeting(cls):\n",
        "    cls.greet = lambda self: \"Hello from Decorator!\"\n",
        "    return cls\n",
        "\n",
        "@add_greeting\n",
        "class Person:\n",
        "    pass\n",
        "\n",
        "# Example usage\n",
        "person = Person()\n",
        "print(person.greet())  # \"Hello from Decorator!\"\n"
      ],
      "metadata": {
        "colab": {
          "base_uri": "https://localhost:8080/"
        },
        "id": "Ca2i0fram89v",
        "outputId": "6657fdfd-ab23-4774-d7a4-7d677a4397ca"
      },
      "execution_count": null,
      "outputs": [
        {
          "output_type": "stream",
          "name": "stdout",
          "text": [
            "Hello from Decorator!\n"
          ]
        }
      ]
    },
    {
      "cell_type": "markdown",
      "source": [
        "### 18. **Property Decorators: `@property`, `@setter`, and `@deleter`**\n",
        "\n",
        "**Assignment:**  \n",
        "Create a class `Product` with a private attribute `_price`. Use `@property` to get the price, `@price.setter` to update it, and `@price.deleter` to delete it.\n"
      ],
      "metadata": {
        "id": "Vp3noNMXm-LO"
      }
    },
    {
      "cell_type": "code",
      "source": [
        "class Product:\n",
        "    def __init__(self, price):\n",
        "        self._price = price\n",
        "\n",
        "    @property\n",
        "    def price(self):\n",
        "        return self._price\n",
        "\n",
        "    @price.setter\n",
        "    def price(self, value):\n",
        "        if value < 0:\n",
        "            print(\"Price cannot be negative!\")\n",
        "        else:\n",
        "            self._price = value\n",
        "\n",
        "    @price.deleter\n",
        "    def price(self):\n",
        "        print(\"Price deleted\")\n",
        "        del self._price\n",
        "\n",
        "# Example usage\n",
        "product = Product(100)\n",
        "print(product.price)  # Get price\n",
        "product.price = 150   # Set price\n",
        "del product.price     # Delete price\n"
      ],
      "metadata": {
        "colab": {
          "base_uri": "https://localhost:8080/"
        },
        "id": "fk9b6dMkm_PC",
        "outputId": "95f49078-d502-4428-9960-eb021158ef8e"
      },
      "execution_count": null,
      "outputs": [
        {
          "output_type": "stream",
          "name": "stdout",
          "text": [
            "100\n",
            "Price deleted\n"
          ]
        }
      ]
    },
    {
      "cell_type": "markdown",
      "source": [
        "### 19. **`callable()` and `__call__()`**\n",
        "\n",
        "**Assignment:**  \n",
        "Create a class `Multiplier` with an `__init__()` to set a factor. Define a `__call__()` method that multiplies an input by the factor. Test it with `callable()` and by calling the object like a function.\n"
      ],
      "metadata": {
        "id": "620DNbgQnA2O"
      }
    },
    {
      "cell_type": "code",
      "source": [
        "class Multiplier:\n",
        "    def __init__(self, factor):\n",
        "        self.factor = factor\n",
        "\n",
        "    def __call__(self, x):\n",
        "        return self.factor * x\n",
        "\n",
        "# Example usage\n",
        "multiplier = Multiplier(5)\n",
        "print(callable(multiplier))  # True\n",
        "print(multiplier(10))        # 50\n"
      ],
      "metadata": {
        "colab": {
          "base_uri": "https://localhost:8080/"
        },
        "id": "w1yjNigQnB2S",
        "outputId": "c27e7fc8-13ca-42d9-a64c-f5019ffeb9e2"
      },
      "execution_count": null,
      "outputs": [
        {
          "output_type": "stream",
          "name": "stdout",
          "text": [
            "True\n",
            "50\n"
          ]
        }
      ]
    },
    {
      "cell_type": "markdown",
      "source": [
        "### 20. **Creating a Custom Exception**\n",
        "\n",
        "**Assignment:**  \n",
        "Create a custom exception `InvalidAgeError`. Write a function `check_age(age)` that raises this exception if `age < 18`. Handle it with `try...except`.\n"
      ],
      "metadata": {
        "id": "8flE2c4NnDE-"
      }
    },
    {
      "cell_type": "code",
      "source": [
        "class InvalidAgeError(Exception):\n",
        "    pass\n",
        "\n",
        "def check_age(age):\n",
        "    if age < 18:\n",
        "        raise InvalidAgeError(\"Age must be 18 or older\")\n",
        "\n",
        "# Example usage\n",
        "try:\n",
        "    check_age(15)\n",
        "except InvalidAgeError as e:\n",
        "    print(e)\n"
      ],
      "metadata": {
        "colab": {
          "base_uri": "https://localhost:8080/"
        },
        "id": "2C2v7WtpnEh7",
        "outputId": "fcbf466e-46df-4358-85c1-795db9563c3e"
      },
      "execution_count": null,
      "outputs": [
        {
          "output_type": "stream",
          "name": "stdout",
          "text": [
            "Age must be 18 or older\n"
          ]
        }
      ]
    },
    {
      "cell_type": "markdown",
      "source": [
        "### 21. **Make a Custom Class Iterable**\n",
        "\n",
        "**Assignment:**  \n",
        "Create a class `Countdown` that takes a start number. Implement `__iter__()` and `__next__()` to make the object iterable in a for-loop, counting down to 0.\n"
      ],
      "metadata": {
        "id": "q6sLAbPMnFoV"
      }
    },
    {
      "cell_type": "code",
      "source": [
        "class Countdown:\n",
        "    def __init__(self, start):\n",
        "        self.start = start\n",
        "\n",
        "    def __iter__(self):\n",
        "        self.current = self.start\n",
        "        return self\n",
        "\n",
        "    def __next__(self):\n",
        "        if self.current <= 0:\n",
        "            raise StopIteration\n",
        "        self.current -= 1\n",
        "        return self.current\n",
        "\n",
        "# Example usage\n",
        "countdown = Countdown(5)\n",
        "for num in countdown:\n",
        "    print(num)\n"
      ],
      "metadata": {
        "colab": {
          "base_uri": "https://localhost:8080/"
        },
        "id": "IHGoonwnnGwx",
        "outputId": "cc3edcac-d931-43a3-ade8-65c4859244cc"
      },
      "execution_count": null,
      "outputs": [
        {
          "output_type": "stream",
          "name": "stdout",
          "text": [
            "4\n",
            "3\n",
            "2\n",
            "1\n",
            "0\n"
          ]
        }
      ]
    }
  ],
  "metadata": {
    "kernelspec": {
      "display_name": "Python 3",
      "language": "python",
      "name": "python3"
    },
    "language_info": {
      "name": "python",
      "version": "3.8.5"
    },
    "colab": {
      "provenance": []
    }
  },
  "nbformat": 4,
  "nbformat_minor": 0
}