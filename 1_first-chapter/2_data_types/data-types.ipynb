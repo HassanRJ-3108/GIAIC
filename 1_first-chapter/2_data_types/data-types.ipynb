{
 "cells": [
  {
   "cell_type": "markdown",
   "metadata": {},
   "source": [
    "# Python Data Types\n",
    "Data types determine the type of value a variable can hold and the operations that can be performed on it. They define the format, structure, size, range, and behavior of data, controlling how it's stored and used in a program. This helps ensure data is used correctly and efficiently.\n",
    "\n",
    "\n",
    "## 1. Numeric Types\n",
    "\n",
    "Python has three main numeric types:\n",
    "\n",
    "### a. Integer (int)\n",
    "Whole numbers, positive or negative, without decimals."
   ]
  },
  {
   "cell_type": "code",
   "execution_count": 2,
   "metadata": {},
   "outputs": [
    {
     "name": "stdout",
     "output_type": "stream",
     "text": [
      "<class 'int'>  num_int =  23\n"
     ]
    }
   ],
   "source": [
    "num_int: int = 23\n",
    "print(type(num_int), \" num_int = \", num_int)"
   ]
  },
  {
   "cell_type": "markdown",
   "metadata": {},
   "source": [
    "### b. Floating-point(float)\n",
    "Numbers with decimal points."
   ]
  },
  {
   "cell_type": "code",
   "execution_count": 3,
   "metadata": {},
   "outputs": [
    {
     "name": "stdout",
     "output_type": "stream",
     "text": [
      "<class 'float'>  num_float =  2.4\n"
     ]
    }
   ],
   "source": [
    "num_float: float = 2.4\n",
    "print(type(num_float), \" num_float = \", num_float)"
   ]
  },
  {
   "cell_type": "markdown",
   "metadata": {},
   "source": [
    "### c. Complex (complex)\n",
    "Numbers with a real and imaginary part."
   ]
  },
  {
   "cell_type": "code",
   "execution_count": 4,
   "metadata": {},
   "outputs": [
    {
     "name": "stdout",
     "output_type": "stream",
     "text": [
      "<class 'complex'>  num_complex =  (3+6j)\n"
     ]
    }
   ],
   "source": [
    "num_complex: complex = 3 + 6j\n",
    "print(type(num_complex), \" num_complex = \", num_complex)"
   ]
  },
  {
   "cell_type": "markdown",
   "metadata": {},
   "source": [
    "# 2. Boolean (bool)\n",
    "Represents True or False."
   ]
  },
  {
   "cell_type": "code",
   "execution_count": 5,
   "metadata": {},
   "outputs": [
    {
     "name": "stdout",
     "output_type": "stream",
     "text": [
      "<class 'bool'>  is_hungry =  True\n"
     ]
    }
   ],
   "source": [
    "is_hungry: bool = True\n",
    "print(type(is_hungry), \" is_hungry = \", is_hungry)"
   ]
  },
  {
   "cell_type": "markdown",
   "metadata": {},
   "source": [
    "# 3. Sequence Types\n",
    "These store multiple items in an ordered way.\n",
    "\n",
    "### a. String (str)\n",
    "A sequence of characters enclosed in quotes."
   ]
  },
  {
   "cell_type": "code",
   "execution_count": 7,
   "metadata": {},
   "outputs": [
    {
     "name": "stdout",
     "output_type": "stream",
     "text": [
      "<class 'str'>  text_double   =  Hello, Python!\n",
      "<class 'str'>  text_single   =  Hello, Python!\n",
      "<class 'str'>  text_multi    =  Hello, Python!\n",
      "<class 'str'>  text_multi_1  =  Hello, Python!\n"
     ]
    }
   ],
   "source": [
    "text_double: str  = \"Hello, Python!\" # Strings with Double Quotes (\")\n",
    "text_single: str  = 'Hello, Python!' # Strings with Single Quotes (')\n",
    "text_multi: str   = '''Hello, Python!''' # Multi-Line Strings with Triple Quotes (''' or \"\"\")\n",
    "text_multi_1: str = \"\"\"Hello, Python!\"\"\" # Multi-Line Strings with Triple Quotes (''' or \"\"\")\n",
    "\n",
    "print(type(text_double), \" text_double   = \", text_double)    # <class 'str'>\n",
    "print(type(text_single), \" text_single   = \", text_single)    # <class 'str'>\n",
    "print(type(text_multi), \" text_multi    = \", text_multi)      # <class 'str'>\n",
    "print(type(text_multi_1), \" text_multi_1  = \", text_multi_1)  # <class 'str'>"
   ]
  },
  {
   "cell_type": "markdown",
   "metadata": {},
   "source": [
    "### b. Lists (list)\n",
    "An Order, mutable collection of elements"
   ]
  },
  {
   "cell_type": "code",
   "execution_count": 10,
   "metadata": {},
   "outputs": [
    {
     "name": "stdout",
     "output_type": "stream",
     "text": [
      "<class 'list'>  random_list =  [1, 3, 5, 'Hello World', True, None, 2.5]\n",
      "<class 'list'>  my_list1     =  [2, 4, 5, 'Hello Python', (3+8j), False]\n"
     ]
    }
   ],
   "source": [
    "random_list: list = [1, 3, 5, \"Hello World\", True, None, 2.5]\n",
    "my_list1: list = [2, 4, 5, \"Hello Python\", 3 + 8j, False]\n",
    "print(type(random_list), \" random_list = \", random_list)\n",
    "print(type(my_list1), \" my_list1     = \", str(my_list1))"
   ]
  },
  {
   "cell_type": "markdown",
   "metadata": {},
   "source": [
    "### c. Tuple (touple)\n",
    "An ordered immutable collection of items"
   ]
  },
  {
   "cell_type": "code",
   "execution_count": null,
   "metadata": {},
   "outputs": [
    {
     "name": "stdout",
     "output_type": "stream",
     "text": [
      "<class 'tuple'>  my_tuple =  (1, 3, 'Hello World', False, 4.17, (5+7j))\n"
     ]
    }
   ],
   "source": [
    "my_tuple = (1, 3, \"Hello World\", False, 4.17, 5+7j)\n",
    "print(type(my_tuple), \" my_tuple = \", my_tuple)"
   ]
  }
 ],
 "metadata": {
  "kernelspec": {
   "display_name": "Python 3",
   "language": "python",
   "name": "python3"
  },
  "language_info": {
   "codemirror_mode": {
    "name": "ipython",
    "version": 3
   },
   "file_extension": ".py",
   "mimetype": "text/x-python",
   "name": "python",
   "nbconvert_exporter": "python",
   "pygments_lexer": "ipython3",
   "version": "3.12.9"
  }
 },
 "nbformat": 4,
 "nbformat_minor": 2
}
